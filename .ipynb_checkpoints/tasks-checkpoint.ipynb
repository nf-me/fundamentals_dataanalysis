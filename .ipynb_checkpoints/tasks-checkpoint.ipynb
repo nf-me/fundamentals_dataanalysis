{
 "cells": [
  {
   "cell_type": "markdown",
   "metadata": {},
   "source": [
    "## Importing Libaries\n"
   ]
  },
  {
   "cell_type": "code",
   "execution_count": 1,
   "metadata": {},
   "outputs": [],
   "source": [
    "# Numerical arrays.\n",
    "import numpy as np\n",
    "\n",
    "# Data frames.\n",
    "import pandas as pd"
   ]
  },
  {
   "cell_type": "markdown",
   "metadata": {},
   "source": [
    "## Task 1: The Collatz conjecture\n",
    "***\n",
    "The Collatz Conjecture is a famous unsolved problem in mathematics. The problem is to prove that if you start with any positive integer x and repeatedly apply the function f(x) below, you always get stuck in the repeating sequence 1, 4, 2, 1, 4, 2..."
   ]
  },
  {
   "cell_type": "code",
   "execution_count": 44,
   "metadata": {},
   "outputs": [],
   "source": [
    "def f(x):\n",
    "    # If x is even, divide it by two\n",
    "    if x % 2 == 0:\n",
    "        return x // 2\n",
    "    # If x is odd, multiply by 3 and add 1\n",
    "    else:\n",
    "        return 3 * x + 1"
   ]
  },
  {
   "cell_type": "code",
   "execution_count": 45,
   "metadata": {},
   "outputs": [],
   "source": [
    "def collatz(x):\n",
    "    sequence = []\n",
    "    while x != 1:\n",
    "        sequence.append(x)\n",
    "        x = f(x)\n",
    "    sequence.append(1)  # Add 1 as the end of the sequence\n",
    "    return sequence"
   ]
  },
  {
   "cell_type": "code",
   "execution_count": 48,
   "metadata": {},
   "outputs": [],
   "source": [
    "def collatz_test(limit):\n",
    "    for i in range(1, limit + 1):\n",
    "        sequence = collatz(i)\n",
    "        if 1 not in sequence:\n",
    "            return False, i  # Shows if it fails and the failing number\n",
    "    return True, None"
   ]
  },
  {
   "cell_type": "code",
   "execution_count": 49,
   "metadata": {},
   "outputs": [
    {
     "name": "stdout",
     "output_type": "stream",
     "text": [
      "Yes, the Collatz conjecture holds true for the first 10,000 positive integers. This means that if you start with any one of the first 10,000 positive integers and apply the Collatz transformation repeatedly, you will eventually reach the number 1.\n"
     ]
    }
   ],
   "source": [
    "# Check our test for the first 10,000 numbers\n",
    "result, failing_number = collatz_test(10000)\n",
    "\n",
    "if result:\n",
    "    print(\"Yes, the Collatz conjecture holds true for the first 10,000 positive integers. This means that if you start with any one of the first 10,000 positive integers and apply the Collatz transformation repeatedly, you will eventually reach the number 1.\")\n",
    "else:\n",
    "    print(f\"The Collatz Conjecture fails at integer: {failing_number}.\")"
   ]
  },
  {
   "cell_type": "markdown",
   "metadata": {},
   "source": [
    "## Task 2: [enter title]\n",
    "***\n",
    "Brief description of the tasks here"
   ]
  },
  {
   "cell_type": "markdown",
   "metadata": {},
   "source": []
  },
  {
   "cell_type": "markdown",
   "metadata": {},
   "source": [
    "## Task 3: [enter title]\n",
    "***\n",
    "Brief description of the tasks here"
   ]
  },
  {
   "cell_type": "markdown",
   "metadata": {},
   "source": [
    "## Task 4: [enter title]\n",
    "***\n",
    "Brief description of the tasks here"
   ]
  },
  {
   "cell_type": "markdown",
   "metadata": {},
   "source": [
    "## Task 5: [enter title]\n",
    "***\n",
    "Brief description of the tasks here"
   ]
  },
  {
   "cell_type": "markdown",
   "metadata": {},
   "source": []
  }
 ],
 "metadata": {
  "kernelspec": {
   "display_name": "Python 3 (ipykernel)",
   "language": "python",
   "name": "python3"
  },
  "language_info": {
   "codemirror_mode": {
    "name": "ipython",
    "version": 3
   },
   "file_extension": ".py",
   "mimetype": "text/x-python",
   "name": "python",
   "nbconvert_exporter": "python",
   "pygments_lexer": "ipython3",
   "version": "3.9.13"
  }
 },
 "nbformat": 4,
 "nbformat_minor": 2
}

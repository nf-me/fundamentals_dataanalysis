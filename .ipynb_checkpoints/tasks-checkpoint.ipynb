{
 "cells": [
  {
   "cell_type": "markdown",
   "metadata": {},
   "source": [
    "## Importing Libaries\n"
   ]
  },
  {
   "cell_type": "code",
   "execution_count": 4,
   "metadata": {},
   "outputs": [],
   "source": [
    "# Numerical arrays.\n",
    "import numpy as np\n",
    "\n",
    "# Data frames.\n",
    "import pandas as pd"
   ]
  },
  {
   "cell_type": "markdown",
   "metadata": {},
   "source": [
    "## Task 1: The Collatz conjecture\n",
    "***\n",
    "The Collatz Conjecture is a famous unsolved problem in mathematics. The problem is to prove that if you start with any positive integer x and repeatedly apply the function f(x) below, you always get stuck in the repeating sequence 1, 4, 2, 1, 4, 2..."
   ]
  },
  {
   "cell_type": "code",
   "execution_count": 44,
   "metadata": {},
   "outputs": [],
   "source": [
    "def f(x):\n",
    "    # If x is even, divide it by two\n",
    "    if x % 2 == 0:\n",
    "        return x // 2\n",
    "    # If x is odd, multiply by 3 and add 1\n",
    "    else:\n",
    "        return 3 * x + 1"
   ]
  },
  {
   "cell_type": "code",
   "execution_count": 45,
   "metadata": {},
   "outputs": [],
   "source": [
    "def collatz(x):\n",
    "    sequence = []\n",
    "    while x != 1:\n",
    "        sequence.append(x)\n",
    "        x = f(x)\n",
    "    sequence.append(1)  # Add 1 as the end of the sequence\n",
    "    return sequence"
   ]
  },
  {
   "cell_type": "code",
   "execution_count": 48,
   "metadata": {},
   "outputs": [],
   "source": [
    "def collatz_test(limit):\n",
    "    for i in range(1, limit + 1):\n",
    "        sequence = collatz(i)\n",
    "        if 1 not in sequence:\n",
    "            return False, i  # Shows if it fails and the failing number\n",
    "    return True, None"
   ]
  },
  {
   "cell_type": "code",
   "execution_count": 49,
   "metadata": {
    "scrolled": true
   },
   "outputs": [
    {
     "name": "stdout",
     "output_type": "stream",
     "text": [
      "Yes, the Collatz conjecture holds true for the first 10,000 positive integers. This means that if you start with any one of the first 10,000 positive integers and apply the Collatz transformation repeatedly, you will eventually reach the number 1.\n"
     ]
    }
   ],
   "source": [
    "# Check our test for the first 10,000 numbers\n",
    "result, failing_number = collatz_test(10000)\n",
    "\n",
    "if result:\n",
    "    print(\"Yes, the Collatz conjecture holds true for the first 10,000 positive integers. This means that if you start with any one of the first 10,000 positive integers and apply the Collatz transformation repeatedly, you will eventually reach the number 1.\")\n",
    "else:\n",
    "    print(f\"The Collatz Conjecture fails at integer: {failing_number}.\")"
   ]
  },
  {
   "cell_type": "markdown",
   "metadata": {},
   "source": [
    "***\n",
    "\n",
    "## End"
   ]
  },
  {
   "cell_type": "markdown",
   "metadata": {},
   "source": [
    "## Task 2: Penguins Dataset\n",
    "\n",
    "### Overview\n",
    "The Penguins Dataset is a well known  and valuable resource within the data analysis and machine learning communities. It comprises a collection of data on penguin measurements from the Palmer Archipelago in Antarctica. This dataset is integral for a variety of research and educational purposes, ranging from ecological studies to introductory data science courses.\n",
    "\n",
    "### Selection of Variables in the Dataset\n",
    "\n",
    "#### Categorical Variables\n",
    "Representing nominal scale variables, these include:\n",
    "- Species: Data on three species (Chinstrap, Adélie, and Gentoo), each with distinct physical characteristics.\n",
    "- Island: Information from three islands (Dream, Torgersen, and Biscoe) in the Palmer Archipelago.\n",
    "- Sex: Differentiating between male and female penguins, with notable size differences.\n",
    "\n",
    "In Python, these are optimally represented as `category` data types for efficient memory usage and performance (in compaison `object` would instead be typically used for strings). As such when modelling the categorical variables in the Penguin Dataset we are going to convert and use `category` data types. This helps provide semantic meaning to the data and imporves operations such as grouping and sorting. \n",
    "\n",
    "#### Numerical Variables\n",
    "Comprising interval or ratio scale variables, these include:\n",
    "- Bill Length and Depth: Measuring the culmen length (from the tip of the beak to the base of the nasal bone) and depth.\n",
    "- Flipper Length: Distance from the flipper tip to the body joint.\n",
    "- Body Mass: The weight of penguins in grams.\n",
    "\n",
    "In Python, these variables are best represented as `float64` or `int64` data types, depending on the precision required. `float64`would be more representative in the Penguins Dataset as this would be the standard for floating-point numbers in Python. Futhermore this allows a a good balance between memory usage and precision in mathematical computations.  \n",
    "\n",
    "### Applications and Significance\n",
    "The dataset is extensively used to:\n",
    "- Investigate relationships between species and physical traits.\n",
    "- Analyse distribution across islands.\n",
    "- Study gender-based physical differences.\n",
    "- Develop predictive models for body mass.\n",
    "- Track population trends.\n",
    "\n",
    "### References\n",
    "The dataset is attributed to Allison M. Horst, A. P. Hill, and K. B. Gorman (2020) in their compilation 'palmerpenguins: Palmer Archipelago (Antarctica) penguin data' (R package version 0.1.0). Further, Gorman, Williams, & Fraser’s 2014 study in PLoS ONE provides foundational data for this dataset."
   ]
  },
  {
   "cell_type": "code",
   "execution_count": 28,
   "metadata": {
    "collapsed": true
   },
   "outputs": [
    {
     "name": "stdout",
     "output_type": "stream",
     "text": [
      "\n",
      "Initial Data Types:\n",
      "species               object\n",
      "island                object\n",
      "bill_length_mm       float64\n",
      "bill_depth_mm        float64\n",
      "flipper_length_mm    float64\n",
      "body_mass_g          float64\n",
      "sex                   object\n",
      "dtype: object\n",
      "\n",
      "Data Types after Conversion:\n",
      "species              category\n",
      "island               category\n",
      "bill_length_mm        float64\n",
      "bill_depth_mm         float64\n",
      "flipper_length_mm     float64\n",
      "body_mass_g           float64\n",
      "sex                  category\n",
      "dtype: object\n"
     ]
    }
   ],
   "source": [
    "# Importing libaries\n",
    "import pandas as pd\n",
    "\n",
    "# Importing the Penguins Dataset using CSV provided on ATU Moodle\n",
    "url = \"https://github.com/nf-me/fundamentals_dataanalysis/blob/master/data/penguins.csv?raw=true\"\n",
    "penguins_df = pd.read_csv(url)\n",
    "\n",
    "# Displaying the initial data types\n",
    "print(\"\\nInitial Data Types:\")\n",
    "print(penguins_df.dtypes)\n",
    "\n",
    "# Converting categorical variables to 'category' type\n",
    "convert_category = ['species', 'island', 'sex']\n",
    "for column in convert_category:\n",
    "    penguins_df[column] = penguins_df[column].astype('category')\n",
    "\n",
    "# Verifying the changes in data types\n",
    "print(\"\\nData Types after Conversion:\")\n",
    "print(penguins_df.dtypes)"
   ]
  },
  {
   "cell_type": "markdown",
   "metadata": {},
   "source": [
    "***\n",
    "\n",
    "## End"
   ]
  },
  {
   "cell_type": "code",
   "execution_count": null,
   "metadata": {},
   "outputs": [],
   "source": []
  },
  {
   "cell_type": "code",
   "execution_count": null,
   "metadata": {},
   "outputs": [],
   "source": []
  },
  {
   "cell_type": "code",
   "execution_count": null,
   "metadata": {},
   "outputs": [],
   "source": []
  },
  {
   "cell_type": "code",
   "execution_count": null,
   "metadata": {},
   "outputs": [],
   "source": []
  },
  {
   "cell_type": "code",
   "execution_count": null,
   "metadata": {},
   "outputs": [],
   "source": []
  },
  {
   "cell_type": "code",
   "execution_count": null,
   "metadata": {},
   "outputs": [],
   "source": []
  },
  {
   "cell_type": "code",
   "execution_count": null,
   "metadata": {},
   "outputs": [],
   "source": []
  },
  {
   "cell_type": "code",
   "execution_count": null,
   "metadata": {},
   "outputs": [],
   "source": []
  },
  {
   "cell_type": "markdown",
   "metadata": {},
   "source": [
    "## Task 3: [enter title]\n",
    "***\n",
    "Brief description of the tasks here"
   ]
  },
  {
   "cell_type": "markdown",
   "metadata": {},
   "source": [
    "## Task 4: [enter title]\n",
    "***\n",
    "Brief description of the tasks here"
   ]
  },
  {
   "cell_type": "markdown",
   "metadata": {},
   "source": [
    "## Task 5: [enter title]\n",
    "***\n",
    "Brief description of the tasks here"
   ]
  },
  {
   "cell_type": "markdown",
   "metadata": {},
   "source": []
  }
 ],
 "metadata": {
  "kernelspec": {
   "display_name": "Python 3 (ipykernel)",
   "language": "python",
   "name": "python3"
  },
  "language_info": {
   "codemirror_mode": {
    "name": "ipython",
    "version": 3
   },
   "file_extension": ".py",
   "mimetype": "text/x-python",
   "name": "python",
   "nbconvert_exporter": "python",
   "pygments_lexer": "ipython3",
   "version": "3.9.13"
  }
 },
 "nbformat": 4,
 "nbformat_minor": 2
}
